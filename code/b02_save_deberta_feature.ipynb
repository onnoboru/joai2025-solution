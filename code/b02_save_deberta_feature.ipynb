{
 "cells": [
  {
   "cell_type": "code",
   "execution_count": 1,
   "id": "514ed4fb",
   "metadata": {},
   "outputs": [],
   "source": [
    "import transformers\n",
    "import torch\n",
    "import numpy as np\n",
    "import pandas as pd\n",
    "from tqdm import tqdm\n",
    "\n",
    "# DeBERTa でテキストを読み取って 0-shot で埋込表現を得る\n",
    "\n",
    "def get_embeddings(texts, model_name='microsoft/deberta-base'):\n",
    "    # モデルとトークナイザーの読み込み\n",
    "    model = transformers.AutoModel.from_pretrained(model_name).to(\"cuda\")\n",
    "    tokenizer = transformers.AutoTokenizer.from_pretrained(model_name)\n",
    "\n",
    "    batch_size = 32\n",
    "    # テキストをトークン化\n",
    "    embeddings = []\n",
    "    attention_masks = []\n",
    "    for i in tqdm(range(0, len(texts), batch_size)):\n",
    "        batch_texts = texts[i:i + batch_size]\n",
    "        inputs = tokenizer(batch_texts, padding=\"max_length\", truncation=True, return_tensors='pt', max_length=128).to(\"cuda\")\n",
    "\n",
    "        # モデルを評価モードに設定\n",
    "        model.eval()\n",
    "        with torch.no_grad():\n",
    "            outputs = model(**inputs)\n",
    "            # 出力は二次元で取得、最終的に３次元配列を保存\n",
    "            last_hidden_states = outputs.last_hidden_state.cpu().numpy()\n",
    "            embeddings.append(last_hidden_states)\n",
    "            attention_masks.append(inputs['attention_mask'].cpu().numpy())\n",
    "            \n",
    "    # すべてのバッチの埋込表現を結合\n",
    "    embeddings = np.concatenate(embeddings, axis=0)\n",
    "    attention_masks = np.concatenate(attention_masks, axis=0)\n",
    "    print(embeddings.shape)\n",
    "    print(attention_masks.shape)\n",
    "    return embeddings, attention_masks"
   ]
  },
  {
   "cell_type": "code",
   "execution_count": 2,
   "id": "886632ea",
   "metadata": {},
   "outputs": [
    {
     "name": "stderr",
     "output_type": "stream",
     "text": [
      "2025-04-27 09:25:07.887794: I tensorflow/core/util/port.cc:153] oneDNN custom operations are on. You may see slightly different numerical results due to floating-point round-off errors from different computation orders. To turn them off, set the environment variable `TF_ENABLE_ONEDNN_OPTS=0`.\n",
      "2025-04-27 09:25:08.024766: E external/local_xla/xla/stream_executor/cuda/cuda_fft.cc:467] Unable to register cuFFT factory: Attempting to register factory for plugin cuFFT when one has already been registered\n",
      "WARNING: All log messages before absl::InitializeLog() is called are written to STDERR\n",
      "E0000 00:00:1745713508.099326 1087536 cuda_dnn.cc:8579] Unable to register cuDNN factory: Attempting to register factory for plugin cuDNN when one has already been registered\n",
      "E0000 00:00:1745713508.122690 1087536 cuda_blas.cc:1407] Unable to register cuBLAS factory: Attempting to register factory for plugin cuBLAS when one has already been registered\n",
      "W0000 00:00:1745713508.225134 1087536 computation_placer.cc:177] computation placer already registered. Please check linkage and avoid linking the same target more than once.\n",
      "W0000 00:00:1745713508.225247 1087536 computation_placer.cc:177] computation placer already registered. Please check linkage and avoid linking the same target more than once.\n",
      "W0000 00:00:1745713508.225254 1087536 computation_placer.cc:177] computation placer already registered. Please check linkage and avoid linking the same target more than once.\n",
      "W0000 00:00:1745713508.225257 1087536 computation_placer.cc:177] computation placer already registered. Please check linkage and avoid linking the same target more than once.\n",
      "2025-04-27 09:25:08.258624: I tensorflow/core/platform/cpu_feature_guard.cc:210] This TensorFlow binary is optimized to use available CPU instructions in performance-critical operations.\n",
      "To enable the following instructions: AVX2 AVX_VNNI FMA, in other operations, rebuild TensorFlow with the appropriate compiler flags.\n",
      "100%|██████████| 180/180 [00:41<00:00,  4.30it/s]\n"
     ]
    },
    {
     "name": "stdout",
     "output_type": "stream",
     "text": [
      "(5760, 128, 768)\n",
      "(5760, 128)\n"
     ]
    },
    {
     "name": "stderr",
     "output_type": "stream",
     "text": [
      "100%|██████████| 20/20 [00:04<00:00,  4.65it/s]\n"
     ]
    },
    {
     "name": "stdout",
     "output_type": "stream",
     "text": [
      "(640, 128, 768)\n",
      "(640, 128)\n"
     ]
    }
   ],
   "source": [
    "train_df = pd.read_csv(\"../dataset/train.csv\")\n",
    "train_texts = train_df['Caption'].tolist()\n",
    "# 埋込表現を取得\n",
    "embeddings, attention_masks = get_embeddings(train_texts)\n",
    "# 埋込表現を保存\n",
    "np.save(\"../dataset/deberta_embeddings_train.npy\", embeddings)\n",
    "np.save(\"../dataset/deberta_attention_masks_train.npy\", attention_masks)\n",
    "\n",
    "test_df = pd.read_csv(\"../dataset/test.csv\")\n",
    "test_texts = test_df['Caption'].tolist()\n",
    "# 埋込表現を取得\n",
    "embeddings, attention_masks = get_embeddings(test_texts)\n",
    "# 埋込表現を保存\n",
    "np.save(\"../dataset/deberta_embeddings_test.npy\", embeddings)\n",
    "np.save(\"../dataset/deberta_attention_masks_test.npy\", attention_masks)"
   ]
  }
 ],
 "metadata": {
  "kernelspec": {
   "display_name": "venv",
   "language": "python",
   "name": "python3"
  },
  "language_info": {
   "codemirror_mode": {
    "name": "ipython",
    "version": 3
   },
   "file_extension": ".py",
   "mimetype": "text/x-python",
   "name": "python",
   "nbconvert_exporter": "python",
   "pygments_lexer": "ipython3",
   "version": "3.10.12"
  }
 },
 "nbformat": 4,
 "nbformat_minor": 5
}
