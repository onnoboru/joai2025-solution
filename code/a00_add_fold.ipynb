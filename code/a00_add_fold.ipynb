{
 "cells": [
  {
   "cell_type": "code",
   "execution_count": 1,
   "id": "fffc73fe",
   "metadata": {},
   "outputs": [],
   "source": [
    "import os \n",
    "from sklearn.model_selection import StratifiedKFold\n",
    "import numpy as np\n",
    "import pandas as pd"
   ]
  },
  {
   "cell_type": "code",
   "execution_count": 2,
   "id": "c247cbc0",
   "metadata": {},
   "outputs": [],
   "source": [
    "dataset_dir = \"../dataset/\"\n",
    "train_df = pd.read_csv(os.path.join(dataset_dir, \"train.csv\"))\n",
    "train_df['fold'] = -1\n",
    "\n",
    "fold = StratifiedKFold(n_splits=5, shuffle=True, random_state=496)\n",
    "for fold_number, (train_index, val_index) in enumerate(fold.split(X=train_df, y=train_df['Gas'])):\n",
    "    train_df.loc[val_index, 'fold'] = fold_number\n",
    "    \n",
    "train_df.to_csv(os.path.join(dataset_dir, \"train_folds_another_seed.csv\"), index=False)\n"
   ]
  }
 ],
 "metadata": {
  "kernelspec": {
   "display_name": "venv",
   "language": "python",
   "name": "python3"
  },
  "language_info": {
   "codemirror_mode": {
    "name": "ipython",
    "version": 3
   },
   "file_extension": ".py",
   "mimetype": "text/x-python",
   "name": "python",
   "nbconvert_exporter": "python",
   "pygments_lexer": "ipython3",
   "version": "3.10.12"
  }
 },
 "nbformat": 4,
 "nbformat_minor": 5
}
