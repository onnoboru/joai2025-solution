{
 "cells": [
  {
   "cell_type": "code",
   "execution_count": 1,
   "id": "514ed4fb",
   "metadata": {},
   "outputs": [],
   "source": [
    "import transformers\n",
    "import torch\n",
    "import numpy as np\n",
    "import pandas as pd\n",
    "from tqdm import tqdm\n",
    "\n",
    "# roberta でテキストを読み取って 0-shot で埋込表現を得る\n",
    "\n",
    "def get_embeddings(texts, model_name='FacebookAI/roberta-base'):\n",
    "    # モデルとトークナイザーの読み込み\n",
    "    model = transformers.AutoModel.from_pretrained(model_name).to(\"cuda\")\n",
    "    tokenizer = transformers.AutoTokenizer.from_pretrained(model_name)\n",
    "\n",
    "    batch_size = 32\n",
    "    # テキストをトークン化\n",
    "    embeddings = []\n",
    "    attention_masks = []\n",
    "    for i in tqdm(range(0, len(texts), batch_size)):\n",
    "        batch_texts = texts[i:i + batch_size]\n",
    "        inputs = tokenizer(batch_texts, padding=\"max_length\", truncation=True, return_tensors='pt', max_length=128).to(\"cuda\")\n",
    "\n",
    "        # モデルを評価モードに設定\n",
    "        model.eval()\n",
    "        with torch.no_grad():\n",
    "            outputs = model(**inputs)\n",
    "            # 出力は二次元で取得、最終的に３次元配列を保存\n",
    "            last_hidden_states = outputs.last_hidden_state.cpu().numpy()\n",
    "            embeddings.append(last_hidden_states)\n",
    "            attention_masks.append(inputs['attention_mask'].cpu().numpy())\n",
    "            \n",
    "    # すべてのバッチの埋込表現を結合\n",
    "    embeddings = np.concatenate(embeddings, axis=0)\n",
    "    attention_masks = np.concatenate(attention_masks, axis=0)\n",
    "    print(embeddings.shape)\n",
    "    print(attention_masks.shape)\n",
    "    return embeddings, attention_masks"
   ]
  },
  {
   "cell_type": "code",
   "execution_count": 2,
   "id": "886632ea",
   "metadata": {},
   "outputs": [
    {
     "data": {
      "application/vnd.jupyter.widget-view+json": {
       "model_id": "1b732307cedf4a6d88d48520179b3a2b",
       "version_major": 2,
       "version_minor": 0
      },
      "text/plain": [
       "config.json:   0%|          | 0.00/481 [00:00<?, ?B/s]"
      ]
     },
     "metadata": {},
     "output_type": "display_data"
    },
    {
     "name": "stderr",
     "output_type": "stream",
     "text": [
      "2025-04-28 23:53:16.400406: I tensorflow/core/util/port.cc:153] oneDNN custom operations are on. You may see slightly different numerical results due to floating-point round-off errors from different computation orders. To turn them off, set the environment variable `TF_ENABLE_ONEDNN_OPTS=0`.\n",
      "2025-04-28 23:53:16.631399: E external/local_xla/xla/stream_executor/cuda/cuda_fft.cc:467] Unable to register cuFFT factory: Attempting to register factory for plugin cuFFT when one has already been registered\n",
      "WARNING: All log messages before absl::InitializeLog() is called are written to STDERR\n",
      "E0000 00:00:1745851996.713948  125523 cuda_dnn.cc:8579] Unable to register cuDNN factory: Attempting to register factory for plugin cuDNN when one has already been registered\n",
      "E0000 00:00:1745851996.739833  125523 cuda_blas.cc:1407] Unable to register cuBLAS factory: Attempting to register factory for plugin cuBLAS when one has already been registered\n",
      "W0000 00:00:1745851996.913133  125523 computation_placer.cc:177] computation placer already registered. Please check linkage and avoid linking the same target more than once.\n",
      "W0000 00:00:1745851996.913198  125523 computation_placer.cc:177] computation placer already registered. Please check linkage and avoid linking the same target more than once.\n",
      "W0000 00:00:1745851996.913204  125523 computation_placer.cc:177] computation placer already registered. Please check linkage and avoid linking the same target more than once.\n",
      "W0000 00:00:1745851996.913207  125523 computation_placer.cc:177] computation placer already registered. Please check linkage and avoid linking the same target more than once.\n",
      "2025-04-28 23:53:16.949439: I tensorflow/core/platform/cpu_feature_guard.cc:210] This TensorFlow binary is optimized to use available CPU instructions in performance-critical operations.\n",
      "To enable the following instructions: AVX2 AVX_VNNI FMA, in other operations, rebuild TensorFlow with the appropriate compiler flags.\n",
      "Xet Storage is enabled for this repo, but the 'hf_xet' package is not installed. Falling back to regular HTTP download. For better performance, install the package with: `pip install huggingface_hub[hf_xet]` or `pip install hf_xet`\n"
     ]
    },
    {
     "data": {
      "application/vnd.jupyter.widget-view+json": {
       "model_id": "0647a3ea8bcd46408b3fb1838c74104e",
       "version_major": 2,
       "version_minor": 0
      },
      "text/plain": [
       "model.safetensors:   0%|          | 0.00/499M [00:00<?, ?B/s]"
      ]
     },
     "metadata": {},
     "output_type": "display_data"
    },
    {
     "name": "stderr",
     "output_type": "stream",
     "text": [
      "Some weights of RobertaModel were not initialized from the model checkpoint at FacebookAI/roberta-base and are newly initialized: ['pooler.dense.bias', 'pooler.dense.weight']\n",
      "You should probably TRAIN this model on a down-stream task to be able to use it for predictions and inference.\n"
     ]
    },
    {
     "data": {
      "application/vnd.jupyter.widget-view+json": {
       "model_id": "01c40b06ce734d4f8dcd0af2641491b2",
       "version_major": 2,
       "version_minor": 0
      },
      "text/plain": [
       "tokenizer_config.json:   0%|          | 0.00/25.0 [00:00<?, ?B/s]"
      ]
     },
     "metadata": {},
     "output_type": "display_data"
    },
    {
     "data": {
      "application/vnd.jupyter.widget-view+json": {
       "model_id": "3ad1431c5c01409497937777f545ba41",
       "version_major": 2,
       "version_minor": 0
      },
      "text/plain": [
       "vocab.json:   0%|          | 0.00/899k [00:00<?, ?B/s]"
      ]
     },
     "metadata": {},
     "output_type": "display_data"
    },
    {
     "data": {
      "application/vnd.jupyter.widget-view+json": {
       "model_id": "8a0a7532b9f0400da9753bc6871b7eeb",
       "version_major": 2,
       "version_minor": 0
      },
      "text/plain": [
       "merges.txt:   0%|          | 0.00/456k [00:00<?, ?B/s]"
      ]
     },
     "metadata": {},
     "output_type": "display_data"
    },
    {
     "data": {
      "application/vnd.jupyter.widget-view+json": {
       "model_id": "1d4215c1bd9541058965b49b38b47b32",
       "version_major": 2,
       "version_minor": 0
      },
      "text/plain": [
       "tokenizer.json:   0%|          | 0.00/1.36M [00:00<?, ?B/s]"
      ]
     },
     "metadata": {},
     "output_type": "display_data"
    },
    {
     "name": "stderr",
     "output_type": "stream",
     "text": [
      "100%|██████████| 180/180 [00:31<00:00,  5.79it/s]\n"
     ]
    },
    {
     "name": "stdout",
     "output_type": "stream",
     "text": [
      "(5760, 128, 768)\n",
      "(5760, 128)\n"
     ]
    },
    {
     "name": "stderr",
     "output_type": "stream",
     "text": [
      "Some weights of RobertaModel were not initialized from the model checkpoint at FacebookAI/roberta-base and are newly initialized: ['pooler.dense.bias', 'pooler.dense.weight']\n",
      "You should probably TRAIN this model on a down-stream task to be able to use it for predictions and inference.\n",
      "100%|██████████| 20/20 [00:03<00:00,  6.08it/s]\n"
     ]
    },
    {
     "name": "stdout",
     "output_type": "stream",
     "text": [
      "(640, 128, 768)\n",
      "(640, 128)\n"
     ]
    }
   ],
   "source": [
    "train_df = pd.read_csv(\"../dataset/train.csv\")\n",
    "train_texts = train_df['Caption'].tolist()\n",
    "# 埋込表現を取得\n",
    "embeddings, attention_masks = get_embeddings(train_texts)\n",
    "# 埋込表現を保存\n",
    "np.save(\"../dataset/roberta_embeddings_train.npy\", embeddings)\n",
    "np.save(\"../dataset/roberta_attention_masks_train.npy\", attention_masks)\n",
    "\n",
    "test_df = pd.read_csv(\"../dataset/test.csv\")\n",
    "test_texts = test_df['Caption'].tolist()\n",
    "# 埋込表現を取得\n",
    "embeddings, attention_masks = get_embeddings(test_texts)\n",
    "# 埋込表現を保存\n",
    "np.save(\"../dataset/roberta_embeddings_test.npy\", embeddings)\n",
    "np.save(\"../dataset/roberta_attention_masks_test.npy\", attention_masks)"
   ]
  }
 ],
 "metadata": {
  "kernelspec": {
   "display_name": "venv",
   "language": "python",
   "name": "python3"
  },
  "language_info": {
   "codemirror_mode": {
    "name": "ipython",
    "version": 3
   },
   "file_extension": ".py",
   "mimetype": "text/x-python",
   "name": "python",
   "nbconvert_exporter": "python",
   "pygments_lexer": "ipython3",
   "version": "3.10.12"
  }
 },
 "nbformat": 4,
 "nbformat_minor": 5
}
